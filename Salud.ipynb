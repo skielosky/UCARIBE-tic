{
  "nbformat": 4,
  "nbformat_minor": 0,
  "metadata": {
    "colab": {
      "name": "Salud.ipynb",
      "provenance": []
    },
    "kernelspec": {
      "name": "python3",
      "display_name": "Python 3"
    }
  },
  "cells": [
    {
      "cell_type": "code",
      "metadata": {
        "id": "ZkuRWRjkqAVi",
        "colab_type": "code",
        "colab": {
          "base_uri": "https://localhost:8080/",
          "height": 17
        },
        "outputId": "c9c5a6a8-7b7c-426b-cdb7-495728e79220"
      },
      "source": [
        "import pandas as pd\n",
        "import numpy as np\n",
        "from decimal import Decimal\n",
        "import matplotlib.pyplot as plt\n",
        "%matplotlib inline\n",
        "import seaborn as sn\n",
        "import os\n",
        "import plotly.graph_objs as go\n",
        "import plotly.offline as py\n",
        "py.init_notebook_mode(connected=True)\n",
        "pd.options.mode.chained_assignment = None\n",
        "pd.options.display.max_columns = 9999\n",
        "pd.options.display.float_format = '{:20,.2f}'.format"
      ],
      "execution_count": 1,
      "outputs": [
        {
          "output_type": "display_data",
          "data": {
            "text/html": [
              "        <script type=\"text/javascript\">\n",
              "        window.PlotlyConfig = {MathJaxConfig: 'local'};\n",
              "        if (window.MathJax) {MathJax.Hub.Config({SVG: {font: \"STIX-Web\"}});}\n",
              "        if (typeof require !== 'undefined') {\n",
              "        require.undef(\"plotly\");\n",
              "        requirejs.config({\n",
              "            paths: {\n",
              "                'plotly': ['https://cdn.plot.ly/plotly-latest.min']\n",
              "            }\n",
              "        });\n",
              "        require(['plotly'], function(Plotly) {\n",
              "            window._Plotly = Plotly;\n",
              "        });\n",
              "        }\n",
              "        </script>\n",
              "        "
            ]
          },
          "metadata": {
            "tags": []
          }
        }
      ]
    },
    {
      "cell_type": "code",
      "metadata": {
        "id": "BKI0XLYlqCCJ",
        "colab_type": "code",
        "colab": {}
      },
      "source": [
        "DataSet = pd.read_csv('https://raw.githubusercontent.com/skielosky/UCARIBE-tic/master/SCMS_Delivery_History_Dataset.csv').fillna(0)"
      ],
      "execution_count": 0,
      "outputs": []
    },
    {
      "cell_type": "code",
      "metadata": {
        "id": "v2LCDkFgrLIC",
        "colab_type": "code",
        "colab": {
          "base_uri": "https://localhost:8080/",
          "height": 34
        },
        "outputId": "747a06cb-6728-492d-cb6c-60b74591ec3b"
      },
      "source": [
        "TotalRowCount = len(DataSet)\n",
        "print(\"Cantidad de Data:\", TotalRowCount)"
      ],
      "execution_count": 4,
      "outputs": [
        {
          "output_type": "stream",
          "text": [
            "Cantidad de Data: 10324\n"
          ],
          "name": "stdout"
        }
      ]
    },
    {
      "cell_type": "code",
      "metadata": {
        "id": "7xBuo8VFrP4C",
        "colab_type": "code",
        "colab": {
          "base_uri": "https://localhost:8080/",
          "height": 595
        },
        "outputId": "a1034295-5057-4476-aafc-ba6e8fb2719e"
      },
      "source": [
        "DataSet.dtypes"
      ],
      "execution_count": 5,
      "outputs": [
        {
          "output_type": "execute_result",
          "data": {
            "text/plain": [
              "ID                                int64\n",
              "Project Code                     object\n",
              "PQ #                             object\n",
              "PO / SO #                        object\n",
              "ASN/DN #                         object\n",
              "Country                          object\n",
              "Managed By                       object\n",
              "Fulfill Via                      object\n",
              "Vendor INCO Term                 object\n",
              "Shipment Mode                    object\n",
              "PQ First Sent to Client Date     object\n",
              "PO Sent to Vendor Date           object\n",
              "Scheduled Delivery Date          object\n",
              "Delivered to Client Date         object\n",
              "Delivery Recorded Date           object\n",
              "Product Group                    object\n",
              "Sub Classification               object\n",
              "Vendor                           object\n",
              "Item Description                 object\n",
              "Molecule/Test Type               object\n",
              "Brand                            object\n",
              "Dosage                           object\n",
              "Dosage Form                      object\n",
              "Unit of Measure (Per Pack)        int64\n",
              "Line Item Quantity                int64\n",
              "Line Item Value                 float64\n",
              "Pack Price                      float64\n",
              "Unit Price                      float64\n",
              "Manufacturing Site               object\n",
              "First Line Designation           object\n",
              "Weight (Kilograms)               object\n",
              "Freight Cost (USD)               object\n",
              "Line Item Insurance (USD)       float64\n",
              "dtype: object"
            ]
          },
          "metadata": {
            "tags": []
          },
          "execution_count": 5
        }
      ]
    },
    {
      "cell_type": "code",
      "metadata": {
        "id": "S3_W2hRirYwQ",
        "colab_type": "code",
        "colab": {
          "base_uri": "https://localhost:8080/",
          "height": 923
        },
        "outputId": "25ab1df8-d50e-4098-edd0-092d70803461"
      },
      "source": [
        "DataSet.head(10)"
      ],
      "execution_count": 6,
      "outputs": [
        {
          "output_type": "execute_result",
          "data": {
            "text/html": [
              "<div>\n",
              "<style scoped>\n",
              "    .dataframe tbody tr th:only-of-type {\n",
              "        vertical-align: middle;\n",
              "    }\n",
              "\n",
              "    .dataframe tbody tr th {\n",
              "        vertical-align: top;\n",
              "    }\n",
              "\n",
              "    .dataframe thead th {\n",
              "        text-align: right;\n",
              "    }\n",
              "</style>\n",
              "<table border=\"1\" class=\"dataframe\">\n",
              "  <thead>\n",
              "    <tr style=\"text-align: right;\">\n",
              "      <th></th>\n",
              "      <th>ID</th>\n",
              "      <th>Project Code</th>\n",
              "      <th>PQ #</th>\n",
              "      <th>PO / SO #</th>\n",
              "      <th>ASN/DN #</th>\n",
              "      <th>Country</th>\n",
              "      <th>Managed By</th>\n",
              "      <th>Fulfill Via</th>\n",
              "      <th>Vendor INCO Term</th>\n",
              "      <th>Shipment Mode</th>\n",
              "      <th>PQ First Sent to Client Date</th>\n",
              "      <th>PO Sent to Vendor Date</th>\n",
              "      <th>Scheduled Delivery Date</th>\n",
              "      <th>Delivered to Client Date</th>\n",
              "      <th>Delivery Recorded Date</th>\n",
              "      <th>Product Group</th>\n",
              "      <th>Sub Classification</th>\n",
              "      <th>Vendor</th>\n",
              "      <th>Item Description</th>\n",
              "      <th>Molecule/Test Type</th>\n",
              "      <th>Brand</th>\n",
              "      <th>Dosage</th>\n",
              "      <th>Dosage Form</th>\n",
              "      <th>Unit of Measure (Per Pack)</th>\n",
              "      <th>Line Item Quantity</th>\n",
              "      <th>Line Item Value</th>\n",
              "      <th>Pack Price</th>\n",
              "      <th>Unit Price</th>\n",
              "      <th>Manufacturing Site</th>\n",
              "      <th>First Line Designation</th>\n",
              "      <th>Weight (Kilograms)</th>\n",
              "      <th>Freight Cost (USD)</th>\n",
              "      <th>Line Item Insurance (USD)</th>\n",
              "    </tr>\n",
              "  </thead>\n",
              "  <tbody>\n",
              "    <tr>\n",
              "      <th>0</th>\n",
              "      <td>1</td>\n",
              "      <td>100-CI-T01</td>\n",
              "      <td>Pre-PQ Process</td>\n",
              "      <td>SCMS-4</td>\n",
              "      <td>ASN-8</td>\n",
              "      <td>Côte d'Ivoire</td>\n",
              "      <td>PMO - US</td>\n",
              "      <td>Direct Drop</td>\n",
              "      <td>EXW</td>\n",
              "      <td>Air</td>\n",
              "      <td>Pre-PQ Process</td>\n",
              "      <td>Date Not Captured</td>\n",
              "      <td>2-Jun-06</td>\n",
              "      <td>2-Jun-06</td>\n",
              "      <td>2-Jun-06</td>\n",
              "      <td>HRDT</td>\n",
              "      <td>HIV test</td>\n",
              "      <td>RANBAXY Fine Chemicals LTD.</td>\n",
              "      <td>HIV, Reveal G3 Rapid HIV-1 Antibody Test, 30 T...</td>\n",
              "      <td>HIV, Reveal G3 Rapid HIV-1 Antibody Test</td>\n",
              "      <td>Reveal</td>\n",
              "      <td>0</td>\n",
              "      <td>Test kit</td>\n",
              "      <td>30</td>\n",
              "      <td>19</td>\n",
              "      <td>551.00</td>\n",
              "      <td>29.00</td>\n",
              "      <td>0.97</td>\n",
              "      <td>Ranbaxy Fine Chemicals LTD</td>\n",
              "      <td>Yes</td>\n",
              "      <td>13</td>\n",
              "      <td>780.34</td>\n",
              "      <td>0.00</td>\n",
              "    </tr>\n",
              "    <tr>\n",
              "      <th>1</th>\n",
              "      <td>3</td>\n",
              "      <td>108-VN-T01</td>\n",
              "      <td>Pre-PQ Process</td>\n",
              "      <td>SCMS-13</td>\n",
              "      <td>ASN-85</td>\n",
              "      <td>Vietnam</td>\n",
              "      <td>PMO - US</td>\n",
              "      <td>Direct Drop</td>\n",
              "      <td>EXW</td>\n",
              "      <td>Air</td>\n",
              "      <td>Pre-PQ Process</td>\n",
              "      <td>Date Not Captured</td>\n",
              "      <td>14-Nov-06</td>\n",
              "      <td>14-Nov-06</td>\n",
              "      <td>14-Nov-06</td>\n",
              "      <td>ARV</td>\n",
              "      <td>Pediatric</td>\n",
              "      <td>Aurobindo Pharma Limited</td>\n",
              "      <td>Nevirapine 10mg/ml, oral suspension, Bottle, 2...</td>\n",
              "      <td>Nevirapine</td>\n",
              "      <td>Generic</td>\n",
              "      <td>10mg/ml</td>\n",
              "      <td>Oral suspension</td>\n",
              "      <td>240</td>\n",
              "      <td>1000</td>\n",
              "      <td>6,200.00</td>\n",
              "      <td>6.20</td>\n",
              "      <td>0.03</td>\n",
              "      <td>Aurobindo Unit III, India</td>\n",
              "      <td>Yes</td>\n",
              "      <td>358</td>\n",
              "      <td>4521.5</td>\n",
              "      <td>0.00</td>\n",
              "    </tr>\n",
              "    <tr>\n",
              "      <th>2</th>\n",
              "      <td>4</td>\n",
              "      <td>100-CI-T01</td>\n",
              "      <td>Pre-PQ Process</td>\n",
              "      <td>SCMS-20</td>\n",
              "      <td>ASN-14</td>\n",
              "      <td>Côte d'Ivoire</td>\n",
              "      <td>PMO - US</td>\n",
              "      <td>Direct Drop</td>\n",
              "      <td>FCA</td>\n",
              "      <td>Air</td>\n",
              "      <td>Pre-PQ Process</td>\n",
              "      <td>Date Not Captured</td>\n",
              "      <td>27-Aug-06</td>\n",
              "      <td>27-Aug-06</td>\n",
              "      <td>27-Aug-06</td>\n",
              "      <td>HRDT</td>\n",
              "      <td>HIV test</td>\n",
              "      <td>Abbott GmbH &amp; Co. KG</td>\n",
              "      <td>HIV 1/2, Determine Complete HIV Kit, 100 Tests</td>\n",
              "      <td>HIV 1/2, Determine Complete HIV Kit</td>\n",
              "      <td>Determine</td>\n",
              "      <td>0</td>\n",
              "      <td>Test kit</td>\n",
              "      <td>100</td>\n",
              "      <td>500</td>\n",
              "      <td>40,000.00</td>\n",
              "      <td>80.00</td>\n",
              "      <td>0.80</td>\n",
              "      <td>ABBVIE GmbH &amp; Co.KG Wiesbaden</td>\n",
              "      <td>Yes</td>\n",
              "      <td>171</td>\n",
              "      <td>1653.78</td>\n",
              "      <td>0.00</td>\n",
              "    </tr>\n",
              "    <tr>\n",
              "      <th>3</th>\n",
              "      <td>15</td>\n",
              "      <td>108-VN-T01</td>\n",
              "      <td>Pre-PQ Process</td>\n",
              "      <td>SCMS-78</td>\n",
              "      <td>ASN-50</td>\n",
              "      <td>Vietnam</td>\n",
              "      <td>PMO - US</td>\n",
              "      <td>Direct Drop</td>\n",
              "      <td>EXW</td>\n",
              "      <td>Air</td>\n",
              "      <td>Pre-PQ Process</td>\n",
              "      <td>Date Not Captured</td>\n",
              "      <td>1-Sep-06</td>\n",
              "      <td>1-Sep-06</td>\n",
              "      <td>1-Sep-06</td>\n",
              "      <td>ARV</td>\n",
              "      <td>Adult</td>\n",
              "      <td>SUN PHARMACEUTICAL INDUSTRIES LTD (RANBAXY LAB...</td>\n",
              "      <td>Lamivudine 150mg, tablets, 60 Tabs</td>\n",
              "      <td>Lamivudine</td>\n",
              "      <td>Generic</td>\n",
              "      <td>150mg</td>\n",
              "      <td>Tablet</td>\n",
              "      <td>60</td>\n",
              "      <td>31920</td>\n",
              "      <td>127,360.80</td>\n",
              "      <td>3.99</td>\n",
              "      <td>0.07</td>\n",
              "      <td>Ranbaxy, Paonta Shahib, India</td>\n",
              "      <td>Yes</td>\n",
              "      <td>1855</td>\n",
              "      <td>16007.06</td>\n",
              "      <td>0.00</td>\n",
              "    </tr>\n",
              "    <tr>\n",
              "      <th>4</th>\n",
              "      <td>16</td>\n",
              "      <td>108-VN-T01</td>\n",
              "      <td>Pre-PQ Process</td>\n",
              "      <td>SCMS-81</td>\n",
              "      <td>ASN-55</td>\n",
              "      <td>Vietnam</td>\n",
              "      <td>PMO - US</td>\n",
              "      <td>Direct Drop</td>\n",
              "      <td>EXW</td>\n",
              "      <td>Air</td>\n",
              "      <td>Pre-PQ Process</td>\n",
              "      <td>Date Not Captured</td>\n",
              "      <td>11-Aug-06</td>\n",
              "      <td>11-Aug-06</td>\n",
              "      <td>11-Aug-06</td>\n",
              "      <td>ARV</td>\n",
              "      <td>Adult</td>\n",
              "      <td>Aurobindo Pharma Limited</td>\n",
              "      <td>Stavudine 30mg, capsules, 60 Caps</td>\n",
              "      <td>Stavudine</td>\n",
              "      <td>Generic</td>\n",
              "      <td>30mg</td>\n",
              "      <td>Capsule</td>\n",
              "      <td>60</td>\n",
              "      <td>38000</td>\n",
              "      <td>121,600.00</td>\n",
              "      <td>3.20</td>\n",
              "      <td>0.05</td>\n",
              "      <td>Aurobindo Unit III, India</td>\n",
              "      <td>Yes</td>\n",
              "      <td>7590</td>\n",
              "      <td>45450.08</td>\n",
              "      <td>0.00</td>\n",
              "    </tr>\n",
              "    <tr>\n",
              "      <th>5</th>\n",
              "      <td>23</td>\n",
              "      <td>112-NG-T01</td>\n",
              "      <td>Pre-PQ Process</td>\n",
              "      <td>SCMS-87</td>\n",
              "      <td>ASN-57</td>\n",
              "      <td>Nigeria</td>\n",
              "      <td>PMO - US</td>\n",
              "      <td>Direct Drop</td>\n",
              "      <td>EXW</td>\n",
              "      <td>Air</td>\n",
              "      <td>Pre-PQ Process</td>\n",
              "      <td>Date Not Captured</td>\n",
              "      <td>28-Sep-06</td>\n",
              "      <td>28-Sep-06</td>\n",
              "      <td>28-Sep-06</td>\n",
              "      <td>ARV</td>\n",
              "      <td>Pediatric</td>\n",
              "      <td>Aurobindo Pharma Limited</td>\n",
              "      <td>Zidovudine 10mg/ml, oral solution, Bottle, 240 ml</td>\n",
              "      <td>Zidovudine</td>\n",
              "      <td>Generic</td>\n",
              "      <td>10mg/ml</td>\n",
              "      <td>Oral solution</td>\n",
              "      <td>240</td>\n",
              "      <td>416</td>\n",
              "      <td>2,225.60</td>\n",
              "      <td>5.35</td>\n",
              "      <td>0.02</td>\n",
              "      <td>Aurobindo Unit III, India</td>\n",
              "      <td>Yes</td>\n",
              "      <td>504</td>\n",
              "      <td>5920.42</td>\n",
              "      <td>0.00</td>\n",
              "    </tr>\n",
              "    <tr>\n",
              "      <th>6</th>\n",
              "      <td>44</td>\n",
              "      <td>110-ZM-T01</td>\n",
              "      <td>Pre-PQ Process</td>\n",
              "      <td>SCMS-139</td>\n",
              "      <td>ASN-130</td>\n",
              "      <td>Zambia</td>\n",
              "      <td>PMO - US</td>\n",
              "      <td>Direct Drop</td>\n",
              "      <td>DDU</td>\n",
              "      <td>Air</td>\n",
              "      <td>Pre-PQ Process</td>\n",
              "      <td>Date Not Captured</td>\n",
              "      <td>8-Jan-07</td>\n",
              "      <td>8-Jan-07</td>\n",
              "      <td>8-Jan-07</td>\n",
              "      <td>ARV</td>\n",
              "      <td>Pediatric</td>\n",
              "      <td>MERCK SHARP &amp; DOHME IDEA GMBH (FORMALLY MERCK ...</td>\n",
              "      <td>Efavirenz 200mg [Stocrin/Sustiva], capsule, 90...</td>\n",
              "      <td>Efavirenz</td>\n",
              "      <td>Stocrin/Sustiva</td>\n",
              "      <td>200mg</td>\n",
              "      <td>Capsule</td>\n",
              "      <td>90</td>\n",
              "      <td>135</td>\n",
              "      <td>4,374.00</td>\n",
              "      <td>32.40</td>\n",
              "      <td>0.36</td>\n",
              "      <td>MSD South Granville Australia</td>\n",
              "      <td>Yes</td>\n",
              "      <td>328</td>\n",
              "      <td>Freight Included in Commodity Cost</td>\n",
              "      <td>0.00</td>\n",
              "    </tr>\n",
              "    <tr>\n",
              "      <th>7</th>\n",
              "      <td>45</td>\n",
              "      <td>109-TZ-T01</td>\n",
              "      <td>Pre-PQ Process</td>\n",
              "      <td>SCMS-140</td>\n",
              "      <td>ASN-94</td>\n",
              "      <td>Tanzania</td>\n",
              "      <td>PMO - US</td>\n",
              "      <td>Direct Drop</td>\n",
              "      <td>EXW</td>\n",
              "      <td>Air</td>\n",
              "      <td>Pre-PQ Process</td>\n",
              "      <td>Date Not Captured</td>\n",
              "      <td>24-Nov-06</td>\n",
              "      <td>24-Nov-06</td>\n",
              "      <td>24-Nov-06</td>\n",
              "      <td>ARV</td>\n",
              "      <td>Adult</td>\n",
              "      <td>Aurobindo Pharma Limited</td>\n",
              "      <td>Nevirapine 200mg, tablets, 60 Tabs</td>\n",
              "      <td>Nevirapine</td>\n",
              "      <td>Generic</td>\n",
              "      <td>200mg</td>\n",
              "      <td>Tablet</td>\n",
              "      <td>60</td>\n",
              "      <td>16667</td>\n",
              "      <td>60,834.55</td>\n",
              "      <td>3.65</td>\n",
              "      <td>0.06</td>\n",
              "      <td>Aurobindo Unit III, India</td>\n",
              "      <td>Yes</td>\n",
              "      <td>1478</td>\n",
              "      <td>6212.41</td>\n",
              "      <td>0.00</td>\n",
              "    </tr>\n",
              "    <tr>\n",
              "      <th>8</th>\n",
              "      <td>46</td>\n",
              "      <td>112-NG-T01</td>\n",
              "      <td>Pre-PQ Process</td>\n",
              "      <td>SCMS-156</td>\n",
              "      <td>ASN-93</td>\n",
              "      <td>Nigeria</td>\n",
              "      <td>PMO - US</td>\n",
              "      <td>Direct Drop</td>\n",
              "      <td>EXW</td>\n",
              "      <td>Air</td>\n",
              "      <td>Pre-PQ Process</td>\n",
              "      <td>Date Not Captured</td>\n",
              "      <td>7-Dec-06</td>\n",
              "      <td>7-Dec-06</td>\n",
              "      <td>7-Dec-06</td>\n",
              "      <td>ARV</td>\n",
              "      <td>Adult</td>\n",
              "      <td>Aurobindo Pharma Limited</td>\n",
              "      <td>Stavudine 30mg, capsules, 60 Caps</td>\n",
              "      <td>Stavudine</td>\n",
              "      <td>Generic</td>\n",
              "      <td>30mg</td>\n",
              "      <td>Capsule</td>\n",
              "      <td>60</td>\n",
              "      <td>273</td>\n",
              "      <td>532.35</td>\n",
              "      <td>1.95</td>\n",
              "      <td>0.03</td>\n",
              "      <td>Aurobindo Unit III, India</td>\n",
              "      <td>No</td>\n",
              "      <td>See ASN-93 (ID#:1281)</td>\n",
              "      <td>See ASN-93 (ID#:1281)</td>\n",
              "      <td>0.00</td>\n",
              "    </tr>\n",
              "    <tr>\n",
              "      <th>9</th>\n",
              "      <td>47</td>\n",
              "      <td>110-ZM-T01</td>\n",
              "      <td>Pre-PQ Process</td>\n",
              "      <td>SCMS-165</td>\n",
              "      <td>ASN-199</td>\n",
              "      <td>Zambia</td>\n",
              "      <td>PMO - US</td>\n",
              "      <td>Direct Drop</td>\n",
              "      <td>CIP</td>\n",
              "      <td>Air</td>\n",
              "      <td>Pre-PQ Process</td>\n",
              "      <td>11/13/06</td>\n",
              "      <td>30-Jan-07</td>\n",
              "      <td>30-Jan-07</td>\n",
              "      <td>30-Jan-07</td>\n",
              "      <td>ARV</td>\n",
              "      <td>Adult</td>\n",
              "      <td>ABBVIE LOGISTICS (FORMERLY ABBOTT LOGISTICS BV)</td>\n",
              "      <td>Lopinavir/Ritonavir 200/50mg [Aluvia], tablets...</td>\n",
              "      <td>Lopinavir/Ritonavir</td>\n",
              "      <td>Aluvia</td>\n",
              "      <td>200/50mg</td>\n",
              "      <td>Tablet</td>\n",
              "      <td>120</td>\n",
              "      <td>2800</td>\n",
              "      <td>115,080.00</td>\n",
              "      <td>41.10</td>\n",
              "      <td>0.34</td>\n",
              "      <td>ABBVIE (Abbott) St. P'burg USA</td>\n",
              "      <td>Yes</td>\n",
              "      <td>643</td>\n",
              "      <td>Freight Included in Commodity Cost</td>\n",
              "      <td>0.00</td>\n",
              "    </tr>\n",
              "  </tbody>\n",
              "</table>\n",
              "</div>"
            ],
            "text/plain": [
              "   ID Project Code            PQ # PO / SO # ASN/DN #        Country  \\\n",
              "0   1   100-CI-T01  Pre-PQ Process    SCMS-4    ASN-8  Côte d'Ivoire   \n",
              "1   3   108-VN-T01  Pre-PQ Process   SCMS-13   ASN-85        Vietnam   \n",
              "2   4   100-CI-T01  Pre-PQ Process   SCMS-20   ASN-14  Côte d'Ivoire   \n",
              "3  15   108-VN-T01  Pre-PQ Process   SCMS-78   ASN-50        Vietnam   \n",
              "4  16   108-VN-T01  Pre-PQ Process   SCMS-81   ASN-55        Vietnam   \n",
              "5  23   112-NG-T01  Pre-PQ Process   SCMS-87   ASN-57        Nigeria   \n",
              "6  44   110-ZM-T01  Pre-PQ Process  SCMS-139  ASN-130         Zambia   \n",
              "7  45   109-TZ-T01  Pre-PQ Process  SCMS-140   ASN-94       Tanzania   \n",
              "8  46   112-NG-T01  Pre-PQ Process  SCMS-156   ASN-93        Nigeria   \n",
              "9  47   110-ZM-T01  Pre-PQ Process  SCMS-165  ASN-199         Zambia   \n",
              "\n",
              "  Managed By  Fulfill Via Vendor INCO Term Shipment Mode  \\\n",
              "0   PMO - US  Direct Drop              EXW           Air   \n",
              "1   PMO - US  Direct Drop              EXW           Air   \n",
              "2   PMO - US  Direct Drop              FCA           Air   \n",
              "3   PMO - US  Direct Drop              EXW           Air   \n",
              "4   PMO - US  Direct Drop              EXW           Air   \n",
              "5   PMO - US  Direct Drop              EXW           Air   \n",
              "6   PMO - US  Direct Drop              DDU           Air   \n",
              "7   PMO - US  Direct Drop              EXW           Air   \n",
              "8   PMO - US  Direct Drop              EXW           Air   \n",
              "9   PMO - US  Direct Drop              CIP           Air   \n",
              "\n",
              "  PQ First Sent to Client Date PO Sent to Vendor Date Scheduled Delivery Date  \\\n",
              "0               Pre-PQ Process      Date Not Captured                2-Jun-06   \n",
              "1               Pre-PQ Process      Date Not Captured               14-Nov-06   \n",
              "2               Pre-PQ Process      Date Not Captured               27-Aug-06   \n",
              "3               Pre-PQ Process      Date Not Captured                1-Sep-06   \n",
              "4               Pre-PQ Process      Date Not Captured               11-Aug-06   \n",
              "5               Pre-PQ Process      Date Not Captured               28-Sep-06   \n",
              "6               Pre-PQ Process      Date Not Captured                8-Jan-07   \n",
              "7               Pre-PQ Process      Date Not Captured               24-Nov-06   \n",
              "8               Pre-PQ Process      Date Not Captured                7-Dec-06   \n",
              "9               Pre-PQ Process               11/13/06               30-Jan-07   \n",
              "\n",
              "  Delivered to Client Date Delivery Recorded Date Product Group  \\\n",
              "0                 2-Jun-06               2-Jun-06          HRDT   \n",
              "1                14-Nov-06              14-Nov-06           ARV   \n",
              "2                27-Aug-06              27-Aug-06          HRDT   \n",
              "3                 1-Sep-06               1-Sep-06           ARV   \n",
              "4                11-Aug-06              11-Aug-06           ARV   \n",
              "5                28-Sep-06              28-Sep-06           ARV   \n",
              "6                 8-Jan-07               8-Jan-07           ARV   \n",
              "7                24-Nov-06              24-Nov-06           ARV   \n",
              "8                 7-Dec-06               7-Dec-06           ARV   \n",
              "9                30-Jan-07              30-Jan-07           ARV   \n",
              "\n",
              "  Sub Classification                                             Vendor  \\\n",
              "0           HIV test                        RANBAXY Fine Chemicals LTD.   \n",
              "1          Pediatric                           Aurobindo Pharma Limited   \n",
              "2           HIV test                               Abbott GmbH & Co. KG   \n",
              "3              Adult  SUN PHARMACEUTICAL INDUSTRIES LTD (RANBAXY LAB...   \n",
              "4              Adult                           Aurobindo Pharma Limited   \n",
              "5          Pediatric                           Aurobindo Pharma Limited   \n",
              "6          Pediatric  MERCK SHARP & DOHME IDEA GMBH (FORMALLY MERCK ...   \n",
              "7              Adult                           Aurobindo Pharma Limited   \n",
              "8              Adult                           Aurobindo Pharma Limited   \n",
              "9              Adult    ABBVIE LOGISTICS (FORMERLY ABBOTT LOGISTICS BV)   \n",
              "\n",
              "                                    Item Description  \\\n",
              "0  HIV, Reveal G3 Rapid HIV-1 Antibody Test, 30 T...   \n",
              "1  Nevirapine 10mg/ml, oral suspension, Bottle, 2...   \n",
              "2     HIV 1/2, Determine Complete HIV Kit, 100 Tests   \n",
              "3                 Lamivudine 150mg, tablets, 60 Tabs   \n",
              "4                  Stavudine 30mg, capsules, 60 Caps   \n",
              "5  Zidovudine 10mg/ml, oral solution, Bottle, 240 ml   \n",
              "6  Efavirenz 200mg [Stocrin/Sustiva], capsule, 90...   \n",
              "7                 Nevirapine 200mg, tablets, 60 Tabs   \n",
              "8                  Stavudine 30mg, capsules, 60 Caps   \n",
              "9  Lopinavir/Ritonavir 200/50mg [Aluvia], tablets...   \n",
              "\n",
              "                         Molecule/Test Type            Brand    Dosage  \\\n",
              "0  HIV, Reveal G3 Rapid HIV-1 Antibody Test           Reveal         0   \n",
              "1                                Nevirapine          Generic   10mg/ml   \n",
              "2       HIV 1/2, Determine Complete HIV Kit        Determine         0   \n",
              "3                                Lamivudine          Generic     150mg   \n",
              "4                                 Stavudine          Generic      30mg   \n",
              "5                                Zidovudine          Generic   10mg/ml   \n",
              "6                                 Efavirenz  Stocrin/Sustiva     200mg   \n",
              "7                                Nevirapine          Generic     200mg   \n",
              "8                                 Stavudine          Generic      30mg   \n",
              "9                       Lopinavir/Ritonavir           Aluvia  200/50mg   \n",
              "\n",
              "       Dosage Form  Unit of Measure (Per Pack)  Line Item Quantity  \\\n",
              "0         Test kit                          30                  19   \n",
              "1  Oral suspension                         240                1000   \n",
              "2         Test kit                         100                 500   \n",
              "3           Tablet                          60               31920   \n",
              "4          Capsule                          60               38000   \n",
              "5    Oral solution                         240                 416   \n",
              "6          Capsule                          90                 135   \n",
              "7           Tablet                          60               16667   \n",
              "8          Capsule                          60                 273   \n",
              "9           Tablet                         120                2800   \n",
              "\n",
              "       Line Item Value           Pack Price           Unit Price  \\\n",
              "0               551.00                29.00                 0.97   \n",
              "1             6,200.00                 6.20                 0.03   \n",
              "2            40,000.00                80.00                 0.80   \n",
              "3           127,360.80                 3.99                 0.07   \n",
              "4           121,600.00                 3.20                 0.05   \n",
              "5             2,225.60                 5.35                 0.02   \n",
              "6             4,374.00                32.40                 0.36   \n",
              "7            60,834.55                 3.65                 0.06   \n",
              "8               532.35                 1.95                 0.03   \n",
              "9           115,080.00                41.10                 0.34   \n",
              "\n",
              "               Manufacturing Site First Line Designation  \\\n",
              "0      Ranbaxy Fine Chemicals LTD                    Yes   \n",
              "1       Aurobindo Unit III, India                    Yes   \n",
              "2   ABBVIE GmbH & Co.KG Wiesbaden                    Yes   \n",
              "3   Ranbaxy, Paonta Shahib, India                    Yes   \n",
              "4       Aurobindo Unit III, India                    Yes   \n",
              "5       Aurobindo Unit III, India                    Yes   \n",
              "6   MSD South Granville Australia                    Yes   \n",
              "7       Aurobindo Unit III, India                    Yes   \n",
              "8       Aurobindo Unit III, India                     No   \n",
              "9  ABBVIE (Abbott) St. P'burg USA                    Yes   \n",
              "\n",
              "      Weight (Kilograms)                  Freight Cost (USD)  \\\n",
              "0                     13                              780.34   \n",
              "1                    358                              4521.5   \n",
              "2                    171                             1653.78   \n",
              "3                   1855                            16007.06   \n",
              "4                   7590                            45450.08   \n",
              "5                    504                             5920.42   \n",
              "6                    328  Freight Included in Commodity Cost   \n",
              "7                   1478                             6212.41   \n",
              "8  See ASN-93 (ID#:1281)               See ASN-93 (ID#:1281)   \n",
              "9                    643  Freight Included in Commodity Cost   \n",
              "\n",
              "   Line Item Insurance (USD)  \n",
              "0                       0.00  \n",
              "1                       0.00  \n",
              "2                       0.00  \n",
              "3                       0.00  \n",
              "4                       0.00  \n",
              "5                       0.00  \n",
              "6                       0.00  \n",
              "7                       0.00  \n",
              "8                       0.00  \n",
              "9                       0.00  "
            ]
          },
          "metadata": {
            "tags": []
          },
          "execution_count": 6
        }
      ]
    },
    {
      "cell_type": "code",
      "metadata": {
        "id": "gXLPnQXdswCR",
        "colab_type": "code",
        "colab": {
          "base_uri": "https://localhost:8080/",
          "height": 708
        },
        "outputId": "48f3c451-c232-408e-966a-90b6c9915879"
      },
      "source": [
        "DataSet = DataSet.dropna()\n",
        "ItemCount = DataSet[\"Country\"].value_counts().nlargest(10)\n",
        "print(\"10 Paises Principales \\n\")\n",
        "print(ItemCount)\n",
        "sn.set_context(\"talk\",font_scale=1)\n",
        "plt.figure(figsize=(22,6))\n",
        "sn.countplot(DataSet['Country'],order = DataSet['Country'].value_counts().nlargest(10).index)\n",
        "plt.title('10 Paises Principalest \\n')\n",
        "plt.ylabel('Total')\n",
        "plt.xlabel('Nombre del Pais')"
      ],
      "execution_count": 9,
      "outputs": [
        {
          "output_type": "stream",
          "text": [
            "10 Paises Principales \n",
            "\n",
            "South Africa     1406\n",
            "Nigeria          1194\n",
            "Côte d'Ivoire    1083\n",
            "Uganda            779\n",
            "Vietnam           688\n",
            "Zambia            683\n",
            "Haiti             655\n",
            "Mozambique        631\n",
            "Zimbabwe          538\n",
            "Tanzania          519\n",
            "Name: Country, dtype: int64\n"
          ],
          "name": "stdout"
        },
        {
          "output_type": "execute_result",
          "data": {
            "text/plain": [
              "Text(0.5, 0, 'Nombre del Pais')"
            ]
          },
          "metadata": {
            "tags": []
          },
          "execution_count": 9
        },
        {
          "output_type": "display_data",
          "data": {
            "image/png": "[encoded data removed]",
            "text/plain": [
              "<Figure size 1584x432 with 1 Axes>"
            ]
          },
          "metadata": {
            "tags": []
          }
        }
      ]
    },
    {
      "cell_type": "code",
      "metadata": {
        "id": "nEBwAVFes9Md",
        "colab_type": "code",
        "colab": {
          "base_uri": "https://localhost:8080/",
          "height": 866
        },
        "outputId": "05d847f7-e649-414a-c718-62bea5cf8af4"
      },
      "source": [
        "TotalPrice = DataSet.groupby(['Country'])['Pack Price'].sum().nlargest(15)\n",
        "print(\"Total Pack Price for Top 15 Countries\\n\")\n",
        "print(TotalPrice)\n",
        "plt.figure(figsize=(22,6))\n",
        "GraphData=DataSet.groupby(['Country'])['Pack Price'].sum().nlargest(15)\n",
        "GraphData.plot(kind='bar')\n",
        "plt.ylabel('Total Pack Price')\n",
        "plt.xlabel('Country Name')"
      ],
      "execution_count": 10,
      "outputs": [
        {
          "output_type": "stream",
          "text": [
            "Total Pack Price for Top 15 Countries\n",
            "\n",
            "Country\n",
            "Nigeria                    25,620.72\n",
            "South Africa               24,318.90\n",
            "Côte d'Ivoire              22,882.35\n",
            "Haiti                      19,521.30\n",
            "Uganda                     15,664.08\n",
            "Mozambique                 14,092.40\n",
            "Vietnam                    11,963.78\n",
            "Zambia                     11,889.67\n",
            "Tanzania                   11,047.72\n",
            "Rwanda                      7,724.29\n",
            "Botswana                    7,052.54\n",
            "Zimbabwe                    6,563.56\n",
            "Kenya                       6,349.14\n",
            "Congo, DRC                  6,032.41\n",
            "Guyana                      5,659.35\n",
            "Name: Pack Price, dtype: float64\n"
          ],
          "name": "stdout"
        },
        {
          "output_type": "execute_result",
          "data": {
            "text/plain": [
              "Text(0.5, 0, 'Country Name')"
            ]
          },
          "metadata": {
            "tags": []
          },
          "execution_count": 10
        },
        {
          "output_type": "display_data",
          "data": {
            "image/png": "[encoded data removed]",
            "text/plain": [
              "<Figure size 1584x432 with 1 Axes>"
            ]
          },
          "metadata": {
            "tags": []
          }
        }
      ]
    },
    {
      "cell_type": "code",
      "metadata": {
        "id": "oumhy5VgtPDv",
        "colab_type": "code",
        "colab": {
          "base_uri": "https://localhost:8080/",
          "height": 467
        },
        "outputId": "2c3816a7-795a-4be1-97e1-1cfc756199f7"
      },
      "source": [
        "sn.set_context(\"talk\",font_scale=1)\n",
        "plt.figure(figsize=(5,6))\n",
        "sn.countplot(DataSet['First Line Designation'],order = DataSet['First Line Designation'].value_counts().nlargest(10).index)\n",
        "plt.title('First Line Designation Wise Count \\n')\n",
        "plt.ylabel('Total Count')\n",
        "plt.xlabel('First Line Designation')"
      ],
      "execution_count": 11,
      "outputs": [
        {
          "output_type": "execute_result",
          "data": {
            "text/plain": [
              "Text(0.5, 0, 'First Line Designation')"
            ]
          },
          "metadata": {
            "tags": []
          },
          "execution_count": 11
        },
        {
          "output_type": "display_data",
          "data": {
            "image/png": "[encoded data removed]",
            "text/plain": [
              "<Figure size 360x432 with 1 Axes>"
            ]
          },
          "metadata": {
            "tags": []
          }
        }
      ]
    },
    {
      "cell_type": "code",
      "metadata": {
        "id": "er2oCrc5tV1G",
        "colab_type": "code",
        "colab": {
          "base_uri": "https://localhost:8080/",
          "height": 542
        },
        "outputId": "ab946363-e8c3-4ebf-f32b-a2dd878907bb"
      },
      "source": [
        "ShippingMode = DataSet[\"Shipment Mode\"].value_counts()\n",
        "labels = (np.array(ShippingMode.index))\n",
        "sizes = (np.array((ShippingMode / ShippingMode.sum())*100))\n",
        "\n",
        "trace = go.Pie(labels=labels, values=sizes)\n",
        "layout = go.Layout(title=\"Shipment Mode\")\n",
        "dat = [trace]\n",
        "fig = go.Figure(data=dat, layout=layout)\n",
        "py.iplot(fig, filename=\"Shipment Mode\")"
      ],
      "execution_count": 14,
      "outputs": [
        {
          "output_type": "display_data",
          "data": {
            "text/html": [
              "<div>\n",
              "        \n",
              "        \n",
              "            <div id=\"333ae98b-6702-4a30-af51-eb1623c97a42\" class=\"plotly-graph-div\" style=\"height:525px; width:100%;\"></div>\n",
              "            <script type=\"text/javascript\">\n",
              "                require([\"plotly\"], function(Plotly) {\n",
              "                    window.PLOTLYENV=window.PLOTLYENV || {};\n",
              "                    \n",
              "                if (document.getElementById(\"333ae98b-6702-4a30-af51-eb1623c97a42\")) {\n",
              "                    Plotly.newPlot(\n",
              "                        '333ae98b-6702-4a30-af51-eb1623c97a42',\n",
              "                        [{\"labels\": [\"Air\", \"Truck\", \"Air Charter\", \"Ocean\", 0], \"type\": \"pie\", \"values\": [59.21154591243704, 27.411855869817902, 6.296009298721426, 3.5935683843471526, 3.487020534676482]}],\n",
              "                        {\"template\": {\"data\": {\"bar\": [{\"error_x\": {\"color\": \"#2a3f5f\"}, \"error_y\": {\"color\": \"#2a3f5f\"}, \"marker\": {\"line\": {\"color\": \"#E5ECF6\", \"width\": 0.5}}, \"type\": \"bar\"}], \"barpolar\": [{\"marker\": {\"line\": {\"color\": \"#E5ECF6\", \"width\": 0.5}}, \"type\": \"barpolar\"}], \"carpet\": [{\"aaxis\": {\"endlinecolor\": \"#2a3f5f\", \"gridcolor\": \"white\", \"linecolor\": \"white\", \"minorgridcolor\": \"white\", \"startlinecolor\": \"#2a3f5f\"}, \"baxis\": {\"endlinecolor\": \"#2a3f5f\", \"gridcolor\": \"white\", \"linecolor\": \"white\", \"minorgridcolor\": \"white\", \"startlinecolor\": \"#2a3f5f\"}, \"type\": \"carpet\"}], \"choropleth\": [{\"colorbar\": {\"outlinewidth\": 0, \"ticks\": \"\"}, \"type\": \"choropleth\"}], \"contour\": [{\"colorbar\": {\"outlinewidth\": 0, \"ticks\": \"\"}, \"colorscale\": [[0.0, \"#0d0887\"], [0.1111111111111111, \"#46039f\"], [0.2222222222222222, \"#7201a8\"], [0.3333333333333333, \"#9c179e\"], [0.4444444444444444, \"#bd3786\"], [0.5555555555555556, \"#d8576b\"], [0.6666666666666666, \"#ed7953\"], [0.7777777777777778, \"#fb9f3a\"], [0.8888888888888888, \"#fdca26\"], [1.0, \"#f0f921\"]], \"type\": \"contour\"}], \"contourcarpet\": [{\"colorbar\": {\"outlinewidth\": 0, \"ticks\": \"\"}, \"type\": \"contourcarpet\"}], \"heatmap\": [{\"colorbar\": {\"outlinewidth\": 0, \"ticks\": \"\"}, \"colorscale\": [[0.0, \"#0d0887\"], [0.1111111111111111, \"#46039f\"], [0.2222222222222222, \"#7201a8\"], [0.3333333333333333, \"#9c179e\"], [0.4444444444444444, \"#bd3786\"], [0.5555555555555556, \"#d8576b\"], [0.6666666666666666, \"#ed7953\"], [0.7777777777777778, \"#fb9f3a\"], [0.8888888888888888, \"#fdca26\"], [1.0, \"#f0f921\"]], \"type\": \"heatmap\"}], \"heatmapgl\": [{\"colorbar\": {\"outlinewidth\": 0, \"ticks\": \"\"}, \"colorscale\": [[0.0, \"#0d0887\"], [0.1111111111111111, \"#46039f\"], [0.2222222222222222, \"#7201a8\"], [0.3333333333333333, \"#9c179e\"], [0.4444444444444444, \"#bd3786\"], [0.5555555555555556, \"#d8576b\"], [0.6666666666666666, \"#ed7953\"], [0.7777777777777778, \"#fb9f3a\"], [0.8888888888888888, \"#fdca26\"], [1.0, \"#f0f921\"]], \"type\": \"heatmapgl\"}], \"histogram\": [{\"marker\": {\"colorbar\": {\"outlinewidth\": 0, \"ticks\": \"\"}}, \"type\": \"histogram\"}], \"histogram2d\": [{\"colorbar\": {\"outlinewidth\": 0, \"ticks\": \"\"}, \"colorscale\": [[0.0, \"#0d0887\"], [0.1111111111111111, \"#46039f\"], [0.2222222222222222, \"#7201a8\"], [0.3333333333333333, \"#9c179e\"], [0.4444444444444444, \"#bd3786\"], [0.5555555555555556, \"#d8576b\"], [0.6666666666666666, \"#ed7953\"], [0.7777777777777778, \"#fb9f3a\"], [0.8888888888888888, \"#fdca26\"], [1.0, \"#f0f921\"]], \"type\": \"histogram2d\"}], \"histogram2dcontour\": [{\"colorbar\": {\"outlinewidth\": 0, \"ticks\": \"\"}, \"colorscale\": [[0.0, \"#0d0887\"], [0.1111111111111111, \"#46039f\"], [0.2222222222222222, \"#7201a8\"], [0.3333333333333333, \"#9c179e\"], [0.4444444444444444, \"#bd3786\"], [0.5555555555555556, \"#d8576b\"], [0.6666666666666666, \"#ed7953\"], [0.7777777777777778, \"#fb9f3a\"], [0.8888888888888888, \"#fdca26\"], [1.0, \"#f0f921\"]], \"type\": \"histogram2dcontour\"}], \"mesh3d\": [{\"colorbar\": {\"outlinewidth\": 0, \"ticks\": \"\"}, \"type\": \"mesh3d\"}], \"parcoords\": [{\"line\": {\"colorbar\": {\"outlinewidth\": 0, \"ticks\": \"\"}}, \"type\": \"parcoords\"}], \"scatter\": [{\"marker\": {\"colorbar\": {\"outlinewidth\": 0, \"ticks\": \"\"}}, \"type\": \"scatter\"}], \"scatter3d\": [{\"line\": {\"colorbar\": {\"outlinewidth\": 0, \"ticks\": \"\"}}, \"marker\": {\"colorbar\": {\"outlinewidth\": 0, \"ticks\": \"\"}}, \"type\": \"scatter3d\"}], \"scattercarpet\": [{\"marker\": {\"colorbar\": {\"outlinewidth\": 0, \"ticks\": \"\"}}, \"type\": \"scattercarpet\"}], \"scattergeo\": [{\"marker\": {\"colorbar\": {\"outlinewidth\": 0, \"ticks\": \"\"}}, \"type\": \"scattergeo\"}], \"scattergl\": [{\"marker\": {\"colorbar\": {\"outlinewidth\": 0, \"ticks\": \"\"}}, \"type\": \"scattergl\"}], \"scattermapbox\": [{\"marker\": {\"colorbar\": {\"outlinewidth\": 0, \"ticks\": \"\"}}, \"type\": \"scattermapbox\"}], \"scatterpolar\": [{\"marker\": {\"colorbar\": {\"outlinewidth\": 0, \"ticks\": \"\"}}, \"type\": \"scatterpolar\"}], \"scatterpolargl\": [{\"marker\": {\"colorbar\": {\"outlinewidth\": 0, \"ticks\": \"\"}}, \"type\": \"scatterpolargl\"}], \"scatterternary\": [{\"marker\": {\"colorbar\": {\"outlinewidth\": 0, \"ticks\": \"\"}}, \"type\": \"scatterternary\"}], \"surface\": [{\"colorbar\": {\"outlinewidth\": 0, \"ticks\": \"\"}, \"colorscale\": [[0.0, \"#0d0887\"], [0.1111111111111111, \"#46039f\"], [0.2222222222222222, \"#7201a8\"], [0.3333333333333333, \"#9c179e\"], [0.4444444444444444, \"#bd3786\"], [0.5555555555555556, \"#d8576b\"], [0.6666666666666666, \"#ed7953\"], [0.7777777777777778, \"#fb9f3a\"], [0.8888888888888888, \"#fdca26\"], [1.0, \"#f0f921\"]], \"type\": \"surface\"}], \"table\": [{\"cells\": {\"fill\": {\"color\": \"#EBF0F8\"}, \"line\": {\"color\": \"white\"}}, \"header\": {\"fill\": {\"color\": \"#C8D4E3\"}, \"line\": {\"color\": \"white\"}}, \"type\": \"table\"}]}, \"layout\": {\"annotationdefaults\": {\"arrowcolor\": \"#2a3f5f\", \"arrowhead\": 0, \"arrowwidth\": 1}, \"colorscale\": {\"diverging\": [[0, \"#8e0152\"], [0.1, \"#c51b7d\"], [0.2, \"#de77ae\"], [0.3, \"#f1b6da\"], [0.4, \"#fde0ef\"], [0.5, \"#f7f7f7\"], [0.6, \"#e6f5d0\"], [0.7, \"#b8e186\"], [0.8, \"#7fbc41\"], [0.9, \"#4d9221\"], [1, \"#276419\"]], \"sequential\": [[0.0, \"#0d0887\"], [0.1111111111111111, \"#46039f\"], [0.2222222222222222, \"#7201a8\"], [0.3333333333333333, \"#9c179e\"], [0.4444444444444444, \"#bd3786\"], [0.5555555555555556, \"#d8576b\"], [0.6666666666666666, \"#ed7953\"], [0.7777777777777778, \"#fb9f3a\"], [0.8888888888888888, \"#fdca26\"], [1.0, \"#f0f921\"]], \"sequentialminus\": [[0.0, \"#0d0887\"], [0.1111111111111111, \"#46039f\"], [0.2222222222222222, \"#7201a8\"], [0.3333333333333333, \"#9c179e\"], [0.4444444444444444, \"#bd3786\"], [0.5555555555555556, \"#d8576b\"], [0.6666666666666666, \"#ed7953\"], [0.7777777777777778, \"#fb9f3a\"], [0.8888888888888888, \"#fdca26\"], [1.0, \"#f0f921\"]]}, \"colorway\": [\"#636efa\", \"#EF553B\", \"#00cc96\", \"#ab63fa\", \"#FFA15A\", \"#19d3f3\", \"#FF6692\", \"#B6E880\", \"#FF97FF\", \"#FECB52\"], \"font\": {\"color\": \"#2a3f5f\"}, \"geo\": {\"bgcolor\": \"white\", \"lakecolor\": \"white\", \"landcolor\": \"#E5ECF6\", \"showlakes\": true, \"showland\": true, \"subunitcolor\": \"white\"}, \"hoverlabel\": {\"align\": \"left\"}, \"hovermode\": \"closest\", \"mapbox\": {\"style\": \"light\"}, \"paper_bgcolor\": \"white\", \"plot_bgcolor\": \"#E5ECF6\", \"polar\": {\"angularaxis\": {\"gridcolor\": \"white\", \"linecolor\": \"white\", \"ticks\": \"\"}, \"bgcolor\": \"#E5ECF6\", \"radialaxis\": {\"gridcolor\": \"white\", \"linecolor\": \"white\", \"ticks\": \"\"}}, \"scene\": {\"xaxis\": {\"backgroundcolor\": \"#E5ECF6\", \"gridcolor\": \"white\", \"gridwidth\": 2, \"linecolor\": \"white\", \"showbackground\": true, \"ticks\": \"\", \"zerolinecolor\": \"white\"}, \"yaxis\": {\"backgroundcolor\": \"#E5ECF6\", \"gridcolor\": \"white\", \"gridwidth\": 2, \"linecolor\": \"white\", \"showbackground\": true, \"ticks\": \"\", \"zerolinecolor\": \"white\"}, \"zaxis\": {\"backgroundcolor\": \"#E5ECF6\", \"gridcolor\": \"white\", \"gridwidth\": 2, \"linecolor\": \"white\", \"showbackground\": true, \"ticks\": \"\", \"zerolinecolor\": \"white\"}}, \"shapedefaults\": {\"line\": {\"color\": \"#2a3f5f\"}}, \"ternary\": {\"aaxis\": {\"gridcolor\": \"white\", \"linecolor\": \"white\", \"ticks\": \"\"}, \"baxis\": {\"gridcolor\": \"white\", \"linecolor\": \"white\", \"ticks\": \"\"}, \"bgcolor\": \"#E5ECF6\", \"caxis\": {\"gridcolor\": \"white\", \"linecolor\": \"white\", \"ticks\": \"\"}}, \"title\": {\"x\": 0.05}, \"xaxis\": {\"automargin\": true, \"gridcolor\": \"white\", \"linecolor\": \"white\", \"ticks\": \"\", \"zerolinecolor\": \"white\", \"zerolinewidth\": 2}, \"yaxis\": {\"automargin\": true, \"gridcolor\": \"white\", \"linecolor\": \"white\", \"ticks\": \"\", \"zerolinecolor\": \"white\", \"zerolinewidth\": 2}}}, \"title\": {\"text\": \"Shipment Mode\"}},\n",
              "                        {\"responsive\": true}\n",
              "                    ).then(function(){\n",
              "                            \n",
              "var gd = document.getElementById('333ae98b-6702-4a30-af51-eb1623c97a42');\n",
              "var x = new MutationObserver(function (mutations, observer) {{\n",
              "        var display = window.getComputedStyle(gd).display;\n",
              "        if (!display || display === 'none') {{\n",
              "            console.log([gd, 'removed!']);\n",
              "            Plotly.purge(gd);\n",
              "            observer.disconnect();\n",
              "        }}\n",
              "}});\n",
              "\n",
              "// Listen for the removal of the full notebook cells\n",
              "var notebookContainer = gd.closest('#notebook-container');\n",
              "if (notebookContainer) {{\n",
              "    x.observe(notebookContainer, {childList: true});\n",
              "}}\n",
              "\n",
              "// Listen for the clearing of the current output cell\n",
              "var outputEl = gd.closest('.output');\n",
              "if (outputEl) {{\n",
              "    x.observe(outputEl, {childList: true});\n",
              "}}\n",
              "\n",
              "                        })\n",
              "                };\n",
              "                });\n",
              "            </script>\n",
              "        </div>"
            ],
            "application/vnd.plotly.v1+json": {
              "data": [
                {
                  "values": [
                    59.21154591243704,
                    27.411855869817902,
                    6.296009298721426,
                    3.5935683843471526,
                    3.487020534676482
                  ],
                  "labels": [
                    "Air",
                    "Truck",
                    "Air Charter",
                    "Ocean",
                    0
                  ],
                  "type": "pie"
                }
              ],
              "config": {
                "plotlyServerURL": "https://plot.ly",
                "linkText": "Export to plot.ly",
                "showLink": false
              },
              "layout": {
                "template": {
                  "layout": {
                    "shapedefaults": {
                      "line": {
                        "color": "#2a3f5f"
                      }
                    },
                    "polar": {
                      "radialaxis": {
                        "ticks": "",
                        "gridcolor": "white",
                        "linecolor": "white"
                      },
                      "bgcolor": "#E5ECF6",
                      "angularaxis": {
                        "ticks": "",
                        "gridcolor": "white",
                        "linecolor": "white"
                      }
                    },
                    "colorway": [
                      "#636efa",
                      "#EF553B",
                      "#00cc96",
                      "#ab63fa",
                      "#FFA15A",
                      "#19d3f3",
                      "#FF6692",
                      "#B6E880",
                      "#FF97FF",
                      "#FECB52"
                    ],
                    "xaxis": {
                      "automargin": true,
                      "zerolinewidth": 2,
                      "ticks": "",
                      "zerolinecolor": "white",
                      "gridcolor": "white",
                      "linecolor": "white"
                    },
                    "colorscale": {
                      "diverging": [
                        [
                          0,
                          "#8e0152"
                        ],
                        [
                          0.1,
                          "#c51b7d"
                        ],
                        [
                          0.2,
                          "#de77ae"
                        ],
                        [
                          0.3,
                          "#f1b6da"
                        ],
                        [
                          0.4,
                          "#fde0ef"
                        ],
                        [
                          0.5,
                          "#f7f7f7"
                        ],
                        [
                          0.6,
                          "#e6f5d0"
                        ],
                        [
                          0.7,
                          "#b8e186"
                        ],
                        [
                          0.8,
                          "#7fbc41"
                        ],
                        [
                          0.9,
                          "#4d9221"
                        ],
                        [
                          1,
                          "#276419"
                        ]
                      ],
                      "sequential": [
                        [
                          0,
                          "#0d0887"
                        ],
                        [
                          0.1111111111111111,
                          "#46039f"
                        ],
                        [
                          0.2222222222222222,
                          "#7201a8"
                        ],
                        [
                          0.3333333333333333,
                          "#9c179e"
                        ],
                        [
                          0.4444444444444444,
                          "#bd3786"
                        ],
                        [
                          0.5555555555555556,
                          "#d8576b"
                        ],
                        [
                          0.6666666666666666,
                          "#ed7953"
                        ],
                        [
                          0.7777777777777778,
                          "#fb9f3a"
                        ],
                        [
                          0.8888888888888888,
                          "#fdca26"
                        ],
                        [
                          1,
                          "#f0f921"
                        ]
                      ],
                      "sequentialminus": [
                        [
                          0,
                          "#0d0887"
                        ],
                        [
                          0.1111111111111111,
                          "#46039f"
                        ],
                        [
                          0.2222222222222222,
                          "#7201a8"
                        ],
                        [
                          0.3333333333333333,
                          "#9c179e"
                        ],
                        [
                          0.4444444444444444,
                          "#bd3786"
                        ],
                        [
                          0.5555555555555556,
                          "#d8576b"
                        ],
                        [
                          0.6666666666666666,
                          "#ed7953"
                        ],
                        [
                          0.7777777777777778,
                          "#fb9f3a"
                        ],
                        [
                          0.8888888888888888,
                          "#fdca26"
                        ],
                        [
                          1,
                          "#f0f921"
                        ]
                      ]
                    },
                    "paper_bgcolor": "white",
                    "plot_bgcolor": "#E5ECF6",
                    "title": {
                      "x": 0.05
                    },
                    "scene": {
                      "zaxis": {
                        "backgroundcolor": "#E5ECF6",
                        "ticks": "",
                        "gridwidth": 2,
                        "showbackground": true,
                        "zerolinecolor": "white",
                        "gridcolor": "white",
                        "linecolor": "white"
                      },
                      "xaxis": {
                        "backgroundcolor": "#E5ECF6",
                        "ticks": "",
                        "gridwidth": 2,
                        "showbackground": true,
                        "zerolinecolor": "white",
                        "gridcolor": "white",
                        "linecolor": "white"
                      },
                      "yaxis": {
                        "backgroundcolor": "#E5ECF6",
                        "ticks": "",
                        "gridwidth": 2,
                        "showbackground": true,
                        "zerolinecolor": "white",
                        "gridcolor": "white",
                        "linecolor": "white"
                      }
                    },
                    "yaxis": {
                      "automargin": true,
                      "zerolinewidth": 2,
                      "ticks": "",
                      "zerolinecolor": "white",
                      "gridcolor": "white",
                      "linecolor": "white"
                    },
                    "hoverlabel": {
                      "align": "left"
                    },
                    "ternary": {
                      "bgcolor": "#E5ECF6",
                      "baxis": {
                        "ticks": "",
                        "gridcolor": "white",
                        "linecolor": "white"
                      },
                      "caxis": {
                        "ticks": "",
                        "gridcolor": "white",
                        "linecolor": "white"
                      },
                      "aaxis": {
                        "ticks": "",
                        "gridcolor": "white",
                        "linecolor": "white"
                      }
                    },
                    "mapbox": {
                      "style": "light"
                    },
                    "hovermode": "closest",
                    "font": {
                      "color": "#2a3f5f"
                    },
                    "geo": {
                      "showland": true,
                      "landcolor": "#E5ECF6",
                      "showlakes": true,
                      "bgcolor": "white",
                      "subunitcolor": "white",
                      "lakecolor": "white"
                    },
                    "annotationdefaults": {
                      "arrowwidth": 1,
                      "arrowhead": 0,
                      "arrowcolor": "#2a3f5f"
                    }
                  },
                  "data": {
                    "mesh3d": [
                      {
                        "colorbar": {
                          "outlinewidth": 0,
                          "ticks": ""
                        },
                        "type": "mesh3d"
                      }
                    ],
                    "scattercarpet": [
                      {
                        "marker": {
                          "colorbar": {
                            "outlinewidth": 0,
                            "ticks": ""
                          }
                        },
                        "type": "scattercarpet"
                      }
                    ],
                    "scatterternary": [
                      {
                        "marker": {
                          "colorbar": {
                            "outlinewidth": 0,
                            "ticks": ""
                          }
                        },
                        "type": "scatterternary"
                      }
                    ],
                    "surface": [
                      {
                        "colorbar": {
                          "outlinewidth": 0,
                          "ticks": ""
                        },
                        "type": "surface",
                        "colorscale": [
                          [
                            0,
                            "#0d0887"
                          ],
                          [
                            0.1111111111111111,
                            "#46039f"
                          ],
                          [
                            0.2222222222222222,
                            "#7201a8"
                          ],
                          [
                            0.3333333333333333,
                            "#9c179e"
                          ],
                          [
                            0.4444444444444444,
                            "#bd3786"
                          ],
                          [
                            0.5555555555555556,
                            "#d8576b"
                          ],
                          [
                            0.6666666666666666,
                            "#ed7953"
                          ],
                          [
                            0.7777777777777778,
                            "#fb9f3a"
                          ],
                          [
                            0.8888888888888888,
                            "#fdca26"
                          ],
                          [
                            1,
                            "#f0f921"
                          ]
                        ]
                      }
                    ],
                    "table": [
                      {
                        "header": {
                          "line": {
                            "color": "white"
                          },
                          "fill": {
                            "color": "#C8D4E3"
                          }
                        },
                        "cells": {
                          "line": {
                            "color": "white"
                          },
                          "fill": {
                            "color": "#EBF0F8"
                          }
                        },
                        "type": "table"
                      }
                    ],
                    "scatterpolargl": [
                      {
                        "marker": {
                          "colorbar": {
                            "outlinewidth": 0,
                            "ticks": ""
                          }
                        },
                        "type": "scatterpolargl"
                      }
                    ],
                    "contour": [
                      {
                        "colorbar": {
                          "outlinewidth": 0,
                          "ticks": ""
                        },
                        "type": "contour",
                        "colorscale": [
                          [
                            0,
                            "#0d0887"
                          ],
                          [
                            0.1111111111111111,
                            "#46039f"
                          ],
                          [
                            0.2222222222222222,
                            "#7201a8"
                          ],
                          [
                            0.3333333333333333,
                            "#9c179e"
                          ],
                          [
                            0.4444444444444444,
                            "#bd3786"
                          ],
                          [
                            0.5555555555555556,
                            "#d8576b"
                          ],
                          [
                            0.6666666666666666,
                            "#ed7953"
                          ],
                          [
                            0.7777777777777778,
                            "#fb9f3a"
                          ],
                          [
                            0.8888888888888888,
                            "#fdca26"
                          ],
                          [
                            1,
                            "#f0f921"
                          ]
                        ]
                      }
                    ],
                    "carpet": [
                      {
                        "type": "carpet",
                        "baxis": {
                          "minorgridcolor": "white",
                          "gridcolor": "white",
                          "linecolor": "white",
                          "endlinecolor": "#2a3f5f",
                          "startlinecolor": "#2a3f5f"
                        },
                        "aaxis": {
                          "minorgridcolor": "white",
                          "gridcolor": "white",
                          "linecolor": "white",
                          "endlinecolor": "#2a3f5f",
                          "startlinecolor": "#2a3f5f"
                        }
                      }
                    ],
                    "contourcarpet": [
                      {
                        "colorbar": {
                          "outlinewidth": 0,
                          "ticks": ""
                        },
                        "type": "contourcarpet"
                      }
                    ],
                    "heatmap": [
                      {
                        "colorbar": {
                          "outlinewidth": 0,
                          "ticks": ""
                        },
                        "type": "heatmap",
                        "colorscale": [
                          [
                            0,
                            "#0d0887"
                          ],
                          [
                            0.1111111111111111,
                            "#46039f"
                          ],
                          [
                            0.2222222222222222,
                            "#7201a8"
                          ],
                          [
                            0.3333333333333333,
                            "#9c179e"
                          ],
                          [
                            0.4444444444444444,
                            "#bd3786"
                          ],
                          [
                            0.5555555555555556,
                            "#d8576b"
                          ],
                          [
                            0.6666666666666666,
                            "#ed7953"
                          ],
                          [
                            0.7777777777777778,
                            "#fb9f3a"
                          ],
                          [
                            0.8888888888888888,
                            "#fdca26"
                          ],
                          [
                            1,
                            "#f0f921"
                          ]
                        ]
                      }
                    ],
                    "scattermapbox": [
                      {
                        "marker": {
                          "colorbar": {
                            "outlinewidth": 0,
                            "ticks": ""
                          }
                        },
                        "type": "scattermapbox"
                      }
                    ],
                    "scatter3d": [
                      {
                        "marker": {
                          "colorbar": {
                            "outlinewidth": 0,
                            "ticks": ""
                          }
                        },
                        "line": {
                          "colorbar": {
                            "outlinewidth": 0,
                            "ticks": ""
                          }
                        },
                        "type": "scatter3d"
                      }
                    ],
                    "scattergl": [
                      {
                        "marker": {
                          "colorbar": {
                            "outlinewidth": 0,
                            "ticks": ""
                          }
                        },
                        "type": "scattergl"
                      }
                    ],
                    "histogram": [
                      {
                        "marker": {
                          "colorbar": {
                            "outlinewidth": 0,
                            "ticks": ""
                          }
                        },
                        "type": "histogram"
                      }
                    ],
                    "heatmapgl": [
                      {
                        "colorbar": {
                          "outlinewidth": 0,
                          "ticks": ""
                        },
                        "type": "heatmapgl",
                        "colorscale": [
                          [
                            0,
                            "#0d0887"
                          ],
                          [
                            0.1111111111111111,
                            "#46039f"
                          ],
                          [
                            0.2222222222222222,
                            "#7201a8"
                          ],
                          [
                            0.3333333333333333,
                            "#9c179e"
                          ],
                          [
                            0.4444444444444444,
                            "#bd3786"
                          ],
                          [
                            0.5555555555555556,
                            "#d8576b"
                          ],
                          [
                            0.6666666666666666,
                            "#ed7953"
                          ],
                          [
                            0.7777777777777778,
                            "#fb9f3a"
                          ],
                          [
                            0.8888888888888888,
                            "#fdca26"
                          ],
                          [
                            1,
                            "#f0f921"
                          ]
                        ]
                      }
                    ],
                    "scatterpolar": [
                      {
                        "marker": {
                          "colorbar": {
                            "outlinewidth": 0,
                            "ticks": ""
                          }
                        },
                        "type": "scatterpolar"
                      }
                    ],
                    "histogram2d": [
                      {
                        "colorbar": {
                          "outlinewidth": 0,
                          "ticks": ""
                        },
                        "type": "histogram2d",
                        "colorscale": [
                          [
                            0,
                            "#0d0887"
                          ],
                          [
                            0.1111111111111111,
                            "#46039f"
                          ],
                          [
                            0.2222222222222222,
                            "#7201a8"
                          ],
                          [
                            0.3333333333333333,
                            "#9c179e"
                          ],
                          [
                            0.4444444444444444,
                            "#bd3786"
                          ],
                          [
                            0.5555555555555556,
                            "#d8576b"
                          ],
                          [
                            0.6666666666666666,
                            "#ed7953"
                          ],
                          [
                            0.7777777777777778,
                            "#fb9f3a"
                          ],
                          [
                            0.8888888888888888,
                            "#fdca26"
                          ],
                          [
                            1,
                            "#f0f921"
                          ]
                        ]
                      }
                    ],
                    "scattergeo": [
                      {
                        "marker": {
                          "colorbar": {
                            "outlinewidth": 0,
                            "ticks": ""
                          }
                        },
                        "type": "scattergeo"
                      }
                    ],
                    "bar": [
                      {
                        "marker": {
                          "line": {
                            "color": "#E5ECF6",
                            "width": 0.5
                          }
                        },
                        "type": "bar",
                        "error_x": {
                          "color": "#2a3f5f"
                        },
                        "error_y": {
                          "color": "#2a3f5f"
                        }
                      }
                    ],
                    "choropleth": [
                      {
                        "colorbar": {
                          "outlinewidth": 0,
                          "ticks": ""
                        },
                        "type": "choropleth"
                      }
                    ],
                    "parcoords": [
                      {
                        "line": {
                          "colorbar": {
                            "outlinewidth": 0,
                            "ticks": ""
                          }
                        },
                        "type": "parcoords"
                      }
                    ],
                    "barpolar": [
                      {
                        "marker": {
                          "line": {
                            "color": "#E5ECF6",
                            "width": 0.5
                          }
                        },
                        "type": "barpolar"
                      }
                    ],
                    "histogram2dcontour": [
                      {
                        "colorbar": {
                          "outlinewidth": 0,
                          "ticks": ""
                        },
                        "type": "histogram2dcontour",
                        "colorscale": [
                          [
                            0,
                            "#0d0887"
                          ],
                          [
                            0.1111111111111111,
                            "#46039f"
                          ],
                          [
                            0.2222222222222222,
                            "#7201a8"
                          ],
                          [
                            0.3333333333333333,
                            "#9c179e"
                          ],
                          [
                            0.4444444444444444,
                            "#bd3786"
                          ],
                          [
                            0.5555555555555556,
                            "#d8576b"
                          ],
                          [
                            0.6666666666666666,
                            "#ed7953"
                          ],
                          [
                            0.7777777777777778,
                            "#fb9f3a"
                          ],
                          [
                            0.8888888888888888,
                            "#fdca26"
                          ],
                          [
                            1,
                            "#f0f921"
                          ]
                        ]
                      }
                    ],
                    "scatter": [
                      {
                        "marker": {
                          "colorbar": {
                            "outlinewidth": 0,
                            "ticks": ""
                          }
                        },
                        "type": "scatter"
                      }
                    ]
                  }
                },
                "title": {
                  "text": "Shipment Mode"
                }
              }
            }
          },
          "metadata": {
            "tags": []
          }
        }
      ]
    },
    {
      "cell_type": "code",
      "metadata": {
        "id": "tmZ42c9Ytc9f",
        "colab_type": "code",
        "colab": {
          "base_uri": "https://localhost:8080/",
          "height": 765
        },
        "outputId": "9c0205ca-6aee-41e6-a6ed-e6ae656b9406"
      },
      "source": [
        "UniqueItem = DataSet['Manufacturing Site'].unique()\n",
        "print(\"All Unique Manufacturing Site \\n\")\n",
        "print(UniqueItem)"
      ],
      "execution_count": 15,
      "outputs": [
        {
          "output_type": "stream",
          "text": [
            "All Unique Manufacturing Site \n",
            "\n",
            "['Ranbaxy Fine Chemicals LTD' 'Aurobindo Unit III, India'\n",
            " 'ABBVIE GmbH & Co.KG Wiesbaden' 'Ranbaxy, Paonta Shahib, India'\n",
            " 'MSD South Granville Australia' \"ABBVIE (Abbott) St. P'burg USA\"\n",
            " 'ABBVIE Ludwigshafen Germany' 'Trinity Biotech, Plc'\n",
            " 'EY Laboratories, USA' 'Cipla, Goa, India' 'BMS Meymac, France'\n",
            " 'Premier Med. Corp Ltd. India' 'Chembio Diagnostics Sys. Inc.'\n",
            " 'Inverness Japan' 'Pacific Biotech, Thailand'\n",
            " 'Standard Diagnostics, Korea' 'GSK Mississauga (Canada)'\n",
            " 'Gilead(Nycomed) Oranienburg DE' 'Bio-Rad Laboratories'\n",
            " 'Mylan (formerly Matrix) Nashik' 'Roche Basel' 'GSK Ware (UK)'\n",
            " 'Novartis Pharma AG, Switzerland' 'BI, Ingelheim, Germany'\n",
            " 'Not Applicable' 'Ipca Dadra/Nagar Haveli IN' 'MSD, Haarlem, NL'\n",
            " 'Aspen-OSD, Port Elizabeth, SA' 'ABBVIE (Abbott) Logis. UK'\n",
            " 'Gland Pharma Ltd Pally Factory' 'GSK Aranda'\n",
            " 'Hetero Unit III Hyderabad IN' 'ABBVIE (Abbott) France'\n",
            " 'Strides, Bangalore, India.' 'ABBSP' 'Cipla, Patalganga, India'\n",
            " 'GSK Cape Town Factory (South Africa)' \"MSD Midrand, J'burg, SA\"\n",
            " 'KHB Test Kit Facility, Shanghai China' 'bioLytical Laboratories'\n",
            " 'Inverness USA' 'Boehringer Ing., Koropi, GR' 'GSK Crawley'\n",
            " 'OMEGA Diagnostics, UK' 'Roche Madrid'\n",
            " 'BUNDI INTERNATIONAL DIAGNOSTICS LTD' 'INVERNESS ORGENICS LINE'\n",
            " 'Novartis Pharma Suffern, USA' 'Micro Labs Ltd. (Brown & Burk), India'\n",
            " 'Meditab (for Cipla) Daman IN' 'Medopharm Malur Factory, INDIA'\n",
            " 'ABBVIE (Abbott) Japan Co. Ltd.' 'MSD Elkton USA'\n",
            " 'Orasure Technologies, Inc USA'\n",
            " 'Weifa A.S., Hausmanngt. 6, P.O. Box 9113 GrÃ¸nland, 0133, Oslo, Norway'\n",
            " 'MSD Manati, Puerto Rico, (USA)' 'MSD Patheon, Canada'\n",
            " 'Emcure Plot No.P-2, I.T-B.T. Park, Phase II, MIDC, Hinjwadi, Pune, India'\n",
            " 'Alere Medical Co., Ltd.' 'Premier Medical Corporation'\n",
            " 'ABBVIE Labs North Chicago US' 'Janssen-Cilag, Latina, IT'\n",
            " 'Aurobindo Unit VII, IN' 'Micro labs, Verna, Goa, India'\n",
            " 'Orasure Technologies, Inc' 'Mylan,  H-12 & H-13, India'\n",
            " 'Hetero, Jadcherla, unit 5, IN' 'Bristol-Myers Squibb Anagni IT'\n",
            " 'Cipla Ltd A-42 MIDC Mahar. IN' 'Medochemie Factory A, CY'\n",
            " 'Boehringer Ingelheim Roxane US' 'BMS Evansville, US'\n",
            " 'GSK, U1, Poznan, Poland' 'Janssen Ortho LLC, Puerto Rico'\n",
            " 'Micro Labs, Hosur, India' 'Remedica, Limassol, Cyprus' 'INVERNESS ANY'\n",
            " 'Guilin OSD site, No 17, China' 'Cipla, Kurkumbh, India'\n",
            " 'GSK Barnard Castle UK' 'Gland Pharma, Hyderabad, IN' 'Access BIO, L.C.'\n",
            " 'Human Diagnostic' 'Mepro Pharm Wadhwan Unit II'\n",
            " 'Ranbaxy per Shasun Pharma Ltd' 'MedMira Inc.'\n",
            " 'Ranbaxy per Shasun Pharma' 'Macleods Daman Plant INDIA']\n"
          ],
          "name": "stdout"
        }
      ]
    },
    {
      "cell_type": "code",
      "metadata": {
        "id": "ZN03-C9utjVB",
        "colab_type": "code",
        "colab": {
          "base_uri": "https://localhost:8080/",
          "height": 68
        },
        "outputId": "38c080b0-8a8a-4010-9aca-5e0d29327872"
      },
      "source": [
        "ItemData=DataSet[DataSet['Shipment Mode']=='Air']\n",
        "print (\"The Max Air Shipment Mode is :\",ItemData['Unit of Measure (Per Pack)'].max())\n",
        "print (\"The Min Air Shipment is :\",ItemData['Unit of Measure (Per Pack)'].min())\n",
        "ItemTypeMean = ItemData['Unit of Measure (Per Pack)'].mean()\n",
        "print (\"The Mean Air Shipment is :\", round(ItemTypeMean,2))"
      ],
      "execution_count": 16,
      "outputs": [
        {
          "output_type": "stream",
          "text": [
            "The Max Air Shipment Mode is : 1000\n",
            "The Min Air Shipment is : 1\n",
            "The Mean Air Shipment is : 82.34\n"
          ],
          "name": "stdout"
        }
      ]
    },
    {
      "cell_type": "code",
      "metadata": {
        "id": "KUmaEMo_tnYu",
        "colab_type": "code",
        "colab": {
          "base_uri": "https://localhost:8080/",
          "height": 935
        },
        "outputId": "550bcf51-17aa-4a3d-81b0-e35994f175a7"
      },
      "source": [
        "plt.figure(figsize=(22,6))\n",
        "TopFiveManufacturingSite=DataSet.groupby('Manufacturing Site').size().nlargest(10)\n",
        "print(TopFiveManufacturingSite)\n",
        "TopFiveManufacturingSite.plot(kind='bar')\n",
        "plt.title('Top 10 Manufacturing Site \\n')\n",
        "plt.ylabel('Total Count')\n",
        "plt.xlabel('Manufacturing Site Name')"
      ],
      "execution_count": 17,
      "outputs": [
        {
          "output_type": "stream",
          "text": [
            "Manufacturing Site\n",
            "Aurobindo Unit III, India         3172\n",
            "Mylan (formerly Matrix) Nashik    1415\n",
            "Hetero Unit III Hyderabad IN       869\n",
            "Cipla, Goa, India                  665\n",
            "Strides, Bangalore, India.         540\n",
            "Alere Medical Co., Ltd.            481\n",
            "Trinity Biotech, Plc               405\n",
            "ABBVIE Ludwigshafen Germany        366\n",
            "Inverness Japan                    345\n",
            "ABBVIE (Abbott) Logis. UK          219\n",
            "dtype: int64\n"
          ],
          "name": "stdout"
        },
        {
          "output_type": "execute_result",
          "data": {
            "text/plain": [
              "Text(0.5, 0, 'Manufacturing Site Name')"
            ]
          },
          "metadata": {
            "tags": []
          },
          "execution_count": 17
        },
        {
          "output_type": "display_data",
          "data": {
            "image/png": "[encoded data removed]",
            "text/plain": [
              "<Figure size 1584x432 with 1 Axes>"
            ]
          },
          "metadata": {
            "tags": []
          }
        }
      ]
    },
    {
      "cell_type": "code",
      "metadata": {
        "id": "3qhJJ77jtry3",
        "colab_type": "code",
        "colab": {
          "base_uri": "https://localhost:8080/",
          "height": 952
        },
        "outputId": "fdbd9622-5a84-493a-edcc-b4ae925195ee"
      },
      "source": [
        "# Top 10 Air Shipment Mode in Bar Chart\n",
        "ItemData=DataSet[DataSet['Shipment Mode']=='Air']\n",
        "DataSet[DataSet[\"Shipment Mode\"]=='Air']['Manufacturing Site'].value_counts()[0:10].to_frame().plot.bar(figsize=(22,6))\n",
        "ItemSupplier = DataSet[DataSet[\"Shipment Mode\"]=='Air']['Manufacturing Site'].value_counts()[0:10]\n",
        "print(\"Top 10 Air Manufacturing Site \\n\")\n",
        "print(ItemSupplier)\n",
        "plt.title('Top 10 Air Manufacturing Site\\n')\n",
        "plt.ylabel('Air Count')\n",
        "plt.xlabel('Manufacturing Site')"
      ],
      "execution_count": 18,
      "outputs": [
        {
          "output_type": "stream",
          "text": [
            "Top 10 Air Manufacturing Site \n",
            "\n",
            "Aurobindo Unit III, India         1694\n",
            "Mylan (formerly Matrix) Nashik     695\n",
            "Alere Medical Co., Ltd.            473\n",
            "Hetero Unit III Hyderabad IN       417\n",
            "Trinity Biotech, Plc               383\n",
            "Inverness Japan                    320\n",
            "ABBVIE Ludwigshafen Germany        285\n",
            "Cipla, Goa, India                  274\n",
            "Strides, Bangalore, India.         256\n",
            "ABBVIE (Abbott) Logis. UK          150\n",
            "Name: Manufacturing Site, dtype: int64\n"
          ],
          "name": "stdout"
        },
        {
          "output_type": "execute_result",
          "data": {
            "text/plain": [
              "Text(0.5, 0, 'Manufacturing Site')"
            ]
          },
          "metadata": {
            "tags": []
          },
          "execution_count": 18
        },
        {
          "output_type": "display_data",
          "data": {
            "image/png": "[encoded data removed]",
            "text/plain": [
              "<Figure size 1584x432 with 1 Axes>"
            ]
          },
          "metadata": {
            "tags": []
          }
        }
      ]
    },
    {
      "cell_type": "code",
      "metadata": {
        "id": "hEd5jqGcttH2",
        "colab_type": "code",
        "colab": {
          "base_uri": "https://localhost:8080/",
          "height": 491
        },
        "outputId": "c86212b8-5b2d-4c31-ab03-2f1845932438"
      },
      "source": [
        "plt.subplots(figsize = (18,6))\n",
        "plt.xticks(rotation = 90)\n",
        "sn.barplot('Shipment Mode','Pack Price', data = DataSet)\n",
        "plt.show()"
      ],
      "execution_count": 19,
      "outputs": [
        {
          "output_type": "display_data",
          "data": {
            "image/png": "[encoded data removed]",
            "text/plain": [
              "<Figure size 1296x432 with 1 Axes>"
            ]
          },
          "metadata": {
            "tags": []
          }
        }
      ]
    },
    {
      "cell_type": "markdown",
      "metadata": {
        "id": "QD3ZKbhMtxU8",
        "colab_type": "text"
      },
      "source": [
        "Conclusiones\n",
        "Top Country for Pack Price : Nigeria - 25,620.72\n",
        "Top Shipping Mode : Air\n",
        "The Max Air Shipment Mode is : 1000\n",
        "The Min Air Shipment is : 1\n",
        "The Mean Air Shipment is : 82.35\n",
        "Top Manufacturing Site : Aurobindo Unit III, India - 3172\n",
        "Top Air Manufacturing Site : Aurobindo Unit III, India - 1694"
      ]
    },
    {
      "cell_type": "code",
      "metadata": {
        "id": "enkQytUltvuu",
        "colab_type": "code",
        "colab": {}
      },
      "source": [
        ""
      ],
      "execution_count": 0,
      "outputs": []
    }
  ]
}