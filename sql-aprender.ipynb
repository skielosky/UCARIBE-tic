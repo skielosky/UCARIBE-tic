{
  "nbformat": 4,
  "nbformat_minor": 0,
  "metadata": {
    "colab": {
      "name": "Untitled29.ipynb",
      "provenance": []
    },
    "kernelspec": {
      "name": "python3",
      "display_name": "Python 3"
    }
  },
  "cells": [
    {
      "cell_type": "code",
      "metadata": {
        "id": "GO7mi3l0H-25",
        "colab_type": "code",
        "outputId": "6e61412b-8b05-4274-d9fa-ec54d505e227",
        "colab": {
          "base_uri": "https://localhost:8080/",
          "height": 221
        }
      },
      "source": [
        "%matplotlib inline\n",
        "import os\n",
        "import math\n",
        "import IPython\n",
        "import sqlite3 as sql3\n",
        "import time as t\n",
        "import numpy as np\n",
        "import pandas as pd\n",
        "from sys import version\n",
        "import matplotlib.pyplot as plt\n",
        "import matplotlib as mpl \n",
        "#os.chdir('C:\\\\Users\\\\Suso')\n",
        "print('='*70)\n",
        "print('Python version:     ' + version)\n",
        "print('Numpy version:      ' + np.__version__)\n",
        "print('Pandas version:     ' + pd.__version__)\n",
        "print('Matplotlib ver:     ' + mpl.__version__)\n",
        "print('SQLite version:     ' + sql3.version)\n",
        "print('IPython version:    ' + IPython.__version__)\n",
        "direct = %pwd\n",
        "print('Working directory:  ' + direct)\n",
        "print('='*70)\n",
        "now = t.asctime()\n",
        "print('Today is ' + now + ' ... AND WE ARE READY TO GO!! ')\n",
        "print('='*70)"
      ],
      "execution_count": 0,
      "outputs": [
        {
          "output_type": "stream",
          "text": [
            "======================================================================\n",
            "Python version:     3.6.8 (default, Jan 14 2019, 11:02:34) \n",
            "[GCC 8.0.1 20180414 (experimental) [trunk revision 259383]]\n",
            "Numpy version:      1.16.5\n",
            "Pandas version:     0.24.2\n",
            "Matplotlib ver:     3.0.3\n",
            "SQLite version:     2.6.0\n",
            "IPython version:    5.5.0\n",
            "Working directory:  /content\n",
            "======================================================================\n",
            "Today is Thu Oct  3 21:40:54 2019 ... AND WE ARE READY TO GO!! \n",
            "======================================================================\n"
          ],
          "name": "stdout"
        }
      ]
    },
    {
      "cell_type": "code",
      "metadata": {
        "id": "waupq-oDIkUx",
        "colab_type": "code",
        "outputId": "fc857fcc-b666-4b0a-9cd4-2d7bfbe8448a",
        "colab": {
          "base_uri": "https://localhost:8080/",
          "height": 34
        }
      },
      "source": [
        "\n",
        "db = sql3.connect('data.db')\n",
        "\n",
        "with db:\n",
        "    c = db.cursor()\n",
        "    c.execute('SELECT SQLITE_VERSION()')\n",
        "    data = c.fetchone()\n",
        "    print(\"SQLite version: %s\" % data)"
      ],
      "execution_count": 0,
      "outputs": [
        {
          "output_type": "stream",
          "text": [
            "SQLite version: 3.22.0\n"
          ],
          "name": "stdout"
        }
      ]
    },
    {
      "cell_type": "code",
      "metadata": {
        "id": "6ISYEPV4IrCm",
        "colab_type": "code",
        "colab": {}
      },
      "source": [
        "c = db.cursor()"
      ],
      "execution_count": 0,
      "outputs": []
    },
    {
      "cell_type": "code",
      "metadata": {
        "id": "oCbJvMauIuRW",
        "colab_type": "code",
        "outputId": "e9e9e29c-ec63-498b-c1f6-aa7cfb4b2386",
        "colab": {
          "base_uri": "https://localhost:8080/",
          "height": 34
        }
      },
      "source": [
        "c.execute('CREATE TABLE test (i INTEGER, j TEXT)')"
      ],
      "execution_count": 0,
      "outputs": [
        {
          "output_type": "execute_result",
          "data": {
            "text/plain": [
              "<sqlite3.Cursor at 0x7f411d86a810>"
            ]
          },
          "metadata": {
            "tags": []
          },
          "execution_count": 4
        }
      ]
    },
    {
      "cell_type": "code",
      "metadata": {
        "id": "D4DF7e3DIxU2",
        "colab_type": "code",
        "outputId": "3b419ae4-5266-4d30-fcd3-2ffa5de534b0",
        "colab": {
          "base_uri": "https://localhost:8080/",
          "height": 34
        }
      },
      "source": [
        "n = 5\n",
        "m = 'some text' \n",
        "\n",
        "c.execute('INSERT INTO test(i,j) VALUES (?,?)', (n,m))"
      ],
      "execution_count": 0,
      "outputs": [
        {
          "output_type": "execute_result",
          "data": {
            "text/plain": [
              "<sqlite3.Cursor at 0x7f411d86a810>"
            ]
          },
          "metadata": {
            "tags": []
          },
          "execution_count": 5
        }
      ]
    },
    {
      "cell_type": "code",
      "metadata": {
        "id": "YjHXwuIWI02P",
        "colab_type": "code",
        "colab": {}
      },
      "source": [
        "con = sql3.connect('test.db')\n",
        "\n",
        "with con:\n",
        "    \n",
        "    cur = con.cursor()\n",
        "    cur.execute(\"DROP TABLE IF EXISTS Cars\")    \n",
        "    cur.execute(\"CREATE TABLE Cars(Id INT, Name TEXT, Price INT)\")\n",
        "    cur.execute(\"INSERT INTO Cars VALUES(1,'Audi',52642)\")\n",
        "    cur.execute(\"INSERT INTO Cars VALUES(2,'Mercedes',57127)\")\n",
        "    cur.execute(\"INSERT INTO Cars VALUES(3,'Skoda',9000)\")\n",
        "    cur.execute(\"INSERT INTO Cars VALUES(4,'Volvo',29000)\")\n",
        "    cur.execute(\"INSERT INTO Cars VALUES(5,'Bentley',350000)\")\n",
        "    cur.execute(\"INSERT INTO Cars VALUES(6,'Citroen',21000)\")\n",
        "    cur.execute(\"INSERT INTO Cars VALUES(7,'Hummer',41400)\")\n",
        "    cur.execute(\"INSERT INTO Cars VALUES(8,'Volkswagen',21600)\")"
      ],
      "execution_count": 0,
      "outputs": []
    },
    {
      "cell_type": "code",
      "metadata": {
        "id": "UN4z90ceI6TX",
        "colab_type": "code",
        "outputId": "64b18c18-d439-4d5c-8289-7cb28b912be2",
        "colab": {
          "base_uri": "https://localhost:8080/",
          "height": 34
        }
      },
      "source": [
        "con = sql3.connect('test.db')\n",
        "cur = con.cursor()\n",
        "\n",
        "cur.execute('SELECT * FROM Cars where Name = \"Volvo\"')\n",
        "\n",
        "rows = cur.fetchall()\n",
        "for row in rows:\n",
        "    print(row)\n",
        "    \n",
        "# or, you can do also: \n",
        "# print cur.fetchall()"
      ],
      "execution_count": 0,
      "outputs": [
        {
          "output_type": "stream",
          "text": [
            "(4, 'Volvo', 29000)\n"
          ],
          "name": "stdout"
        }
      ]
    },
    {
      "cell_type": "code",
      "metadata": {
        "id": "q1mMW0D4I_93",
        "colab_type": "code",
        "outputId": "85e850cd-060f-4a54-f572-5db003e79363",
        "colab": {
          "base_uri": "https://localhost:8080/",
          "height": 153
        }
      },
      "source": [
        "con = sql3.connect('test.db')\n",
        "cur = con.cursor()\n",
        "\n",
        "cur.execute('SELECT * FROM Cars')\n",
        "record = cur.fetchone()\n",
        "\n",
        "while record:\n",
        "    print(record)\n",
        "    record = cur.fetchone()"
      ],
      "execution_count": 0,
      "outputs": [
        {
          "output_type": "stream",
          "text": [
            "(1, 'Audi', 52642)\n",
            "(2, 'Mercedes', 57127)\n",
            "(3, 'Skoda', 9000)\n",
            "(4, 'Volvo', 29000)\n",
            "(5, 'Bentley', 350000)\n",
            "(6, 'Citroen', 21000)\n",
            "(7, 'Hummer', 41400)\n",
            "(8, 'Volkswagen', 21600)\n"
          ],
          "name": "stdout"
        }
      ]
    },
    {
      "cell_type": "code",
      "metadata": {
        "id": "bHdXlFCPJF0n",
        "colab_type": "code",
        "outputId": "bcc5d6b6-6e61-4990-f48b-9bd21920b034",
        "colab": {
          "base_uri": "https://localhost:8080/",
          "height": 129
        }
      },
      "source": [
        "con = sql3.connect('test.db')\n",
        "\n",
        "with con:\n",
        "    \n",
        "    cur = con.cursor()    \n",
        "    cur.execute('SELECT * FROM Cars')\n",
        "    \n",
        "    col_names = [cn[0] for cn in cur.description]\n",
        "    \n",
        "    rows = cur.fetchall()\n",
        "    \n",
        "    print \"%-5s %-15s %s\" % (col_names[0], col_names[1], col_names[2])\n",
        "\n",
        "    for row in rows:    \n",
        "        print(\"%-5s %-15s %s\" % row)"
      ],
      "execution_count": 0,
      "outputs": [
        {
          "output_type": "error",
          "ename": "SyntaxError",
          "evalue": "ignored",
          "traceback": [
            "\u001b[0;36m  File \u001b[0;32m\"<ipython-input-13-ba2b0e75b052>\"\u001b[0;36m, line \u001b[0;32m12\u001b[0m\n\u001b[0;31m    print \"%-5s %-15s %s\" % (col_names[0], col_names[1], col_names[2])\u001b[0m\n\u001b[0m                        ^\u001b[0m\n\u001b[0;31mSyntaxError\u001b[0m\u001b[0;31m:\u001b[0m invalid syntax\n"
          ]
        }
      ]
    }
  ]
}